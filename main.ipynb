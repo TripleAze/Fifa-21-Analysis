{
 "cells": [
  {
   "cell_type": "code",
   "execution_count": null,
   "metadata": {},
   "outputs": [],
   "source": [
    "import pandas as pd\n",
    "import matplotlib.pyplot as plt\n",
    "import seaborn as sns\n",
    "import numpy as np\n",
    "from sklearn.model_selection import train_test_split\n",
    "from sklearn.linear_model import LinearRegression\n",
    "from sklearn.metrics import mean_squared_error\n"
   ]
  },
  {
   "cell_type": "code",
   "execution_count": null,
   "metadata": {},
   "outputs": [],
   "source": [
    "\n",
    "df = pd.read_csv('CLEAN_FIFA21_official_data.csv')\n"
   ]
  },
  {
   "cell_type": "code",
   "execution_count": null,
   "metadata": {},
   "outputs": [],
   "source": [
    "\n",
    "# Display basic information about the dataset\n",
    "df.head()  # First few rows\n",
    "df.info()  # Info on data types and non-null counts\n"
   ]
  },
  {
   "cell_type": "code",
   "execution_count": null,
   "metadata": {},
   "outputs": [],
   "source": [
    "\n",
    "# Check for missing values and duplicates\n",
    "df.isnull().sum()  # Check for null values\n",
    "df.duplicated().sum()  # Check for duplicate rows\n"
   ]
  },
  {
   "cell_type": "code",
   "execution_count": null,
   "metadata": {},
   "outputs": [],
   "source": [
    "\n",
    "# Convert 'Height(cm.)' to numeric (in case of incorrect formats)\n",
    "df['Height(cm.)'] = df['Height(cm.)'].astype(float)\n"
   ]
  },
  {
   "cell_type": "code",
   "execution_count": null,
   "metadata": {},
   "outputs": [],
   "source": [
    "\n",
    "# Convert 'Weight(lbs.)' to numeric (in case of incorrect formats)\n",
    "df['Weight(lbs.)'] = df['Weight(lbs.)'].astype(float)\n"
   ]
  },
  {
   "cell_type": "code",
   "execution_count": null,
   "metadata": {},
   "outputs": [],
   "source": [
    "\n",
    "# Extract Year, Month, and Day from the 'Joined' column\n",
    "df[['Year', 'Month', 'Day']] = df['Joined'].str.split('-', expand=True)\n",
    "df[['Year', 'Month', 'Day']] = df[['Year', 'Month', 'Day']].astype(int)\n",
    "\n",
    "# Clean currency columns (remove symbols and convert to numeric)\n",
    "def clean_currency(column):\n",
    "    return df[column].replace({'€': '', 'M': 'e6', 'K': 'e3'}, regex=True).astype(float)\n"
   ]
  },
  {
   "cell_type": "code",
   "execution_count": null,
   "metadata": {},
   "outputs": [],
   "source": [
    "\n",
    "# Apply the currency cleaning function to relevant columns\n",
    "df['Value(£)'] = clean_currency('Value(£)')\n",
    "df['Wage(£)'] = clean_currency('Wage(£)')\n",
    "df['Release Clause(£)'] = clean_currency('Release Clause(£)')\n"
   ]
  },
  {
   "cell_type": "code",
   "execution_count": null,
   "metadata": {},
   "outputs": [],
   "source": [
    "\n",
    "# Save the cleaned dataset to a new CSV file\n",
    "df.to_csv('cleaned_fifa21_data.csv', index=False)\n"
   ]
  },
  {
   "cell_type": "code",
   "execution_count": null,
   "metadata": {},
   "outputs": [],
   "source": [
    "\n",
    "# Basic statistics for numeric columns\n",
    "numeric_columns = df.select_dtypes(include=['float64', 'int64'])\n",
    "correlation_matrix = numeric_columns.corr()\n"
   ]
  },
  {
   "cell_type": "code",
   "execution_count": null,
   "metadata": {},
   "outputs": [],
   "source": [
    "\n",
    "# Plot heatmap of correlations between numerical features\n",
    "plt.figure(figsize=(13, 9))\n",
    "sns.heatmap(correlation_matrix, annot=True, cmap='coolwarm')\n",
    "plt.title('Correlation Matrix of Player Attributes')\n",
    "plt.grid(True)\n",
    "plt.show()\n"
   ]
  },
  {
   "cell_type": "code",
   "execution_count": null,
   "metadata": {},
   "outputs": [],
   "source": [
    "\n",
    "# Get the top player for each position (based on 'Overall' rating)\n",
    "best_players = df.groupby('Best Position').apply(lambda x: x.nlargest(1, 'Overall'))\n",
    "print(best_players[['Name', 'Best Position', 'Overall']])\n"
   ]
  },
  {
   "cell_type": "code",
   "execution_count": null,
   "metadata": {},
   "outputs": [],
   "source": [
    "\n",
    "# Scatter plot for Age vs Overall Rating\n",
    "sns.scatterplot(data=df, x='Age', y='Overall', alpha=0.6)\n",
    "plt.title('Age vs Overall Rating')\n",
    "plt.xlabel('Age')\n",
    "plt.ylabel('Overall Rating')\n",
    "plt.show()\n"
   ]
  },
  {
   "cell_type": "code",
   "execution_count": null,
   "metadata": {},
   "outputs": [],
   "source": [
    "\n",
    "# Scatter plot for Age vs Potential Rating\n",
    "sns.scatterplot(data=df, x='Age', y='Potential', alpha=0.6, color='skyblue')\n",
    "plt.title('Age vs Potential Rating')\n",
    "plt.xlabel('Age')\n",
    "plt.ylabel('Potential Rating')\n",
    "plt.show()\n"
   ]
  },
  {
   "cell_type": "code",
   "execution_count": null,
   "metadata": {},
   "outputs": [],
   "source": [
    "\n",
    "# Create a new column for Potential Gap (Potential - Overall)\n",
    "df['Potential Gap'] = df['Potential'] - df['Overall']\n"
   ]
  },
  {
   "cell_type": "code",
   "execution_count": null,
   "metadata": {},
   "outputs": [],
   "source": [
    "\n",
    "# Sort players by Potential Gap to identify undervalued players\n",
    "underrated_players = df.sort_values(by='Potential Gap', ascending=False).head(20)\n",
    "print(underrated_players[['Name', 'Overall', 'Potential', 'Value(£)', 'Potential Gap', 'Nationality']])\n"
   ]
  },
  {
   "cell_type": "code",
   "execution_count": null,
   "metadata": {},
   "outputs": [],
   "source": [
    "\n",
    "# Scatter plot for Overall Rating vs Market Value\n",
    "sns.scatterplot(data=df, x='Overall', y='Value(£)', alpha=0.6)\n",
    "plt.title('Overall Rating vs Market Value (£)')\n",
    "plt.xlabel('Overall Rating')\n",
    "plt.ylabel('Market Value (£)')\n",
    "plt.grid(True)\n",
    "plt.show()\n"
   ]
  },
  {
   "cell_type": "code",
   "execution_count": null,
   "metadata": {},
   "outputs": [],
   "source": [
    "\n",
    "# Top 10 Nationalities by player count\n",
    "top_Nationalities = df['Nationality'].value_counts().head(10)\n",
    "top_Nationalities.plot(kind='bar', figsize=(12, 7))\n",
    "plt.title('Top 10 Nationalities by Player Count')\n",
    "plt.xlabel('Nationalities')\n",
    "plt.ylabel('Number of Players')\n",
    "plt.show()\n"
   ]
  },
  {
   "cell_type": "code",
   "execution_count": null,
   "metadata": {},
   "outputs": [],
   "source": [
    "\n",
    "# Least 10 Nationalities by player count\n",
    "Least_Nationalities = df['Nationality'].value_counts().tail(10)\n",
    "Least_Nationalities.plot(kind='bar', figsize=(12, 7))\n",
    "plt.title('Bottom 10 Nationalities by Player Count')\n",
    "plt.xlabel('Nationalities')\n",
    "plt.ylabel('Number of Players')\n",
    "plt.show()\n"
   ]
  },
  {
   "cell_type": "code",
   "execution_count": null,
   "metadata": {},
   "outputs": [],
   "source": [
    "\n",
    "# Compute average rating by club (excluding the first row)\n",
    "club_ratings = df.groupby('Club')['Overall'].mean().sort_values(ascending=False).head(11)\n",
    "club_ratings_without_first = club_ratings.iloc[1:]\n",
    "print(club_ratings_without_first)\n"
   ]
  },
  {
   "cell_type": "code",
   "execution_count": null,
   "metadata": {},
   "outputs": [],
   "source": [
    "\n",
    "# Scatter plot for Wage vs Overall Rating\n",
    "sns.scatterplot(data=df, x='Wage(£)', y='Overall', alpha=0.6)\n",
    "plt.title('Wage vs Overall Rating')\n",
    "plt.xlabel('Wage (£)')\n",
    "plt.ylabel('Overall Rating')\n",
    "plt.grid(True)\n",
    "plt.show()\n"
   ]
  },
  {
   "cell_type": "code",
   "execution_count": null,
   "metadata": {},
   "outputs": [],
   "source": [
    "\n",
    "# Prepare data for predictive modeling\n",
    "X = df[['Overall', 'Potential', 'Age']]  # Features\n",
    "y = df['Value(£)']  # Target variable\n"
   ]
  },
  {
   "cell_type": "code",
   "execution_count": null,
   "metadata": {},
   "outputs": [],
   "source": [
    "\n",
    "# Split data into training and testing sets\n",
    "X_train, X_test, y_train, y_test = train_test_split(X, y, test_size=0.2, random_state=42)\n"
   ]
  },
  {
   "cell_type": "code",
   "execution_count": null,
   "metadata": {},
   "outputs": [],
   "source": [
    "\n",
    "# Train a Linear Regression model\n",
    "model = LinearRegression()\n",
    "model.fit(X_train, y_train)\n"
   ]
  },
  {
   "cell_type": "code",
   "execution_count": null,
   "metadata": {},
   "outputs": [],
   "source": [
    "\n",
    "# Predict and evaluate the model\n",
    "y_pred = model.predict(X_test)\n",
    "mse = mean_squared_error(y_test, y_pred)\n",
    "print(f'Mean Squared Error: {mse:.2f}')\n"
   ]
  },
  {
   "cell_type": "code",
   "execution_count": null,
   "metadata": {},
   "outputs": [],
   "source": [
    "\n",
    "# Filter for players under 21 years old and sort by Potential Gap\n",
    "young_players = df[df['Age'] < 21]\n",
    "young_high_potential = young_players.sort_values(by='Potential Gap', ascending=False).head(10)\n",
    "print(young_high_potential[['Name', 'Age', 'Overall', 'Potential', 'Potential Gap']])\n"
   ]
  },
  {
   "cell_type": "code",
   "execution_count": null,
   "metadata": {},
   "outputs": [],
   "source": [
    "\n",
    "# Log-transform the target variable for better predictive performance\n",
    "y_log = np.log1p(y)\n",
    "X_train, X_test, y_train_log, y_test_log = train_test_split(X, y_log, test_size=0.2, random_state=42)\n"
   ]
  },
  {
   "cell_type": "code",
   "execution_count": null,
   "metadata": {},
   "outputs": [],
   "source": [
    "\n",
    "# Train the model with log-transformed target\n",
    "model.fit(X_train, y_train_log)\n",
    "y_pred_log = model.predict(X_test)\n",
    "mse_log = mean_squared_error(y_test_log, y_pred_log)\n",
    "print(f'New Mean Squared Error (Log Transformed): {mse_log:.2f}')\n"
   ]
  },
  {
   "cell_type": "code",
   "execution_count": null,
   "metadata": {},
   "outputs": [],
   "source": [
    "\n",
    "# Feature importance (coefficients)\n",
    "importances = model.coef_  \n",
    "feature_names = X.columns\n",
    "for name, coef in zip(feature_names, importances):\n",
    "    print(f'{name}: {coef:.2f}')\n"
   ]
  },
  {
   "cell_type": "code",
   "execution_count": null,
   "metadata": {},
   "outputs": [],
   "source": [
    "\n",
    "# Scatter plot of predicted vs actual log-transformed values\n",
    "plt.scatter(y_test_log, y_pred_log, alpha=0.6)\n",
    "plt.title('Predicted vs Actual (Log-Transformed)')\n",
    "plt.xlabel('Actual Log Market Value')\n",
    "plt.ylabel('Predicted Log Market Value')\n",
    "plt.show()\n"
   ]
  },
  {
   "cell_type": "code",
   "execution_count": null,
   "metadata": {},
   "outputs": [],
   "source": [
    "\n",
    "# Visualize feature importance\n",
    "feature_impact = {\n",
    "    'Feature': ['Overall', 'Potential', 'Age', 'Wage(£)', 'International Reputation'],\n",
    "    'Coefficient': [2196600.43, -228080.04, -1477886.27, 3343651.86, 300469.64]\n",
    "}\n",
    "sns.barplot(x='Coefficient', y='Feature', data=feature_impact, palette='coolwarm')\n",
    "plt.title('Feature Coefficients Impact on Market Value')\n",
    "plt.xlabel('Coefficient Value')\n",
    "plt.ylabel('Feature')\n",
    "plt.show()\n"
   ]
  },
  {
   "cell_type": "code",
   "execution_count": null,
   "metadata": {},
   "outputs": [],
   "source": []
  }
 ],
 "metadata": {
  "kernelspec": {
   "display_name": "base",
   "language": "python",
   "name": "python3"
  },
  "language_info": {
   "codemirror_mode": {
    "name": "ipython",
    "version": 3
   },
   "file_extension": ".py",
   "mimetype": "text/x-python",
   "name": "python",
   "nbconvert_exporter": "python",
   "pygments_lexer": "ipython3",
   "version": "3.12.4"
  }
 },
 "nbformat": 4,
 "nbformat_minor": 2
}
